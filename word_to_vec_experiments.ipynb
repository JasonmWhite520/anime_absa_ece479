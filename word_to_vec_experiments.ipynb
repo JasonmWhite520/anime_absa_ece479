{
 "cells": [
  {
   "cell_type": "code",
   "id": "initial_id",
   "metadata": {
    "collapsed": true,
    "ExecuteTime": {
     "end_time": "2025-04-27T19:30:55.490531Z",
     "start_time": "2025-04-27T19:30:37.099019Z"
    }
   },
   "source": [
    " #import gensim library\n",
    "from gensim.models import Word2Vec\n",
    "from gensim.models import KeyedVectors\n",
    "#replace with the path where you have downloaded your model.\n",
    "pretrained_model_path = './pretrained_models/GoogleNews-vectors-negative300.bin.gz'\n",
    "#initialise the pre trained model using load_word2vec_format from gensim module.\n",
    "word_vectors = KeyedVectors.load_word2vec_format(pretrained_model_path, binary=True)\n",
    "\n",
    "# Calculate cosine similarity between word pairs\n",
    "word1 = \"early\"\n",
    "word2 = \"seats\"\n",
    "#calculate the similarity\n",
    "similarity1 = word_vectors.similarity(word1, word2)\n",
    "#print final value\n",
    "print(similarity1)\n",
    "\n",
    "word3 = \"king\"\n",
    "word4 = \"man\"\n",
    "#calculate the similarity\n",
    "similarity2 = word_vectors.similarity(word3, word4)\n",
    "#print final value\n",
    "print(similarity2)"
   ],
   "outputs": [
    {
     "name": "stdout",
     "output_type": "stream",
     "text": [
      "0.035838068\n",
      "0.2294267\n"
     ]
    }
   ],
   "execution_count": 30
  },
  {
   "metadata": {
    "ExecuteTime": {
     "end_time": "2025-04-27T18:26:51.559801Z",
     "start_time": "2025-04-27T18:26:51.551080Z"
    }
   },
   "cell_type": "code",
   "source": [
    "import json\n",
    "\n",
    "favorite_aspects = None\n",
    "narrative_sentiment = 0\n",
    "narrative_avg_sentiment = 0\n",
    "visual_sentiment = 0\n",
    "visual_avg_sentiment = 0\n",
    "audio_sentiment = 0\n",
    "audio_avg_sentiment = 0\n",
    "\n",
    "narrative_aspects = [\"voice actors\", \"story line\", \"world building\", \"storyline\", \"development\", \"backstories\", \"lore\", \"world\", \"setting\", \"locations\", \"openings\", \"backstory\", \"plot\", \"story\", \"narrative\", \"story arcs\", \"arcs\", \"atmosphere\", \"ending\", \"writing\", \"opening\", \"content\", \"flashbacks\", \"length\"]\n",
    "visual_aspects = [\"artwork\", \"fight scenes\", \"style\", \"scenes\", \"Art\", \"character designs\", \"design\", \"art\", \"art style\", \"animation quality\", \"scene\", \"animation\"]\n",
    "audio_aspects = [\"music\", \"voice acting\", \"soundtracks\", \"soundtrack\", \"sound effects\", \"Music\", \"background music\", \"sound\", \"Sound\"]\n",
    "with open(\"./favorite_aspects.json\") as file:\n",
    "    favorite_aspects = json.load(file)\n",
    "    for key, value in favorite_aspects.items():\n",
    "        if key in narrative_aspects:\n",
    "            narrative_sentiment += value[\"total_sentiment\"]\n",
    "            narrative_avg_sentiment += value[\"occurrences\"]\n",
    "        if key in visual_aspects:\n",
    "            visual_sentiment += value[\"total_sentiment\"]\n",
    "            visual_avg_sentiment += value[\"occurrences\"]\n",
    "        if key in audio_aspects:\n",
    "            audio_sentiment += value[\"total_sentiment\"]\n",
    "            audio_avg_sentiment += value[\"occurrences\"]\n",
    "\n",
    "    narrative_rating = narrative_sentiment / narrative_avg_sentiment\n",
    "    visual_rating = visual_sentiment / visual_avg_sentiment\n",
    "    audio_rating = audio_sentiment / audio_avg_sentiment\n",
    "\n",
    "    print(\"Total narrative rating: \", narrative_rating)\n",
    "    print(\"Total visual rating: \", visual_rating)\n",
    "    print(\"Total audio rating: \", audio_rating)\n",
    "\n",
    "    file.close()\n",
    "\n",
    "#print(favorite_aspects) # Narrative, visual, audio"
   ],
   "id": "e5b0c39169439df0",
   "outputs": [
    {
     "name": "stdout",
     "output_type": "stream",
     "text": [
      "Total narrative rating:  0.8300395256916996\n",
      "Total visual rating:  0.5501138952164009\n",
      "Total audio rating:  0.8732718894009217\n"
     ]
    }
   ],
   "execution_count": 29
  },
  {
   "metadata": {},
   "cell_type": "markdown",
   "source": "# Similarity Example",
   "id": "6858082b813bb153"
  },
  {
   "metadata": {
    "ExecuteTime": {
     "end_time": "2025-05-10T00:35:27.848535Z",
     "start_time": "2025-05-10T00:35:10.806056Z"
    }
   },
   "cell_type": "code",
   "source": [
    "from gensim.models import KeyedVectors\n",
    "\n",
    "#replace with the path where you have downloaded your model.\n",
    "pretrained_model_path = './pretrained_models/GoogleNews-vectors-negative300.bin.gz'\n",
    "#initialise the pre-trained model using load_word2vec_format from gensim module.\n",
    "sim_word_vectors = KeyedVectors.load_word2vec_format(pretrained_model_path, binary=True)\n",
    "\n",
    "sim_narrative, sim_visual, sim_audio, sim_miscellaneous, sim_character = 0, 0, 0, 0, 0\n",
    "\n",
    "sim_narrative = sim_word_vectors.similarity(\"Narrative\", \"art\")\n",
    "sim_visual = sim_word_vectors.similarity(\"Visual\", \"art\")\n",
    "sim_audio = sim_word_vectors.similarity(\"Audio\", \"art\")\n",
    "sim_miscellaneous = sim_word_vectors.similarity(\"Miscellaneous\", \"art\")\n",
    "sim_character = sim_word_vectors.similarity(\"Character\", \"art\")\n",
    "print(\"The similarity value between Narrative and art is: \", sim_narrative)\n",
    "print(\"The similarity value between Visual and art is: \", sim_visual)\n",
    "print(\"The similarity value between Audio and art is: \", sim_audio)\n",
    "print(\"The similarity value between Miscellaneous and art is: \", sim_miscellaneous)\n",
    "print(\"The similarity value between Character and art is: \", sim_character)"
   ],
   "id": "b99a85220219db7c",
   "outputs": [
    {
     "name": "stdout",
     "output_type": "stream",
     "text": [
      "The similarity value between Narrative and art is:  0.22958045\n",
      "The similarity value between Visual and art is:  0.29605716\n",
      "The similarity value between Audio and art is:  0.11702706\n",
      "The similarity value between Miscellaneous and art is:  0.07614544\n",
      "The similarity value between Character and art is:  0.12263514\n"
     ]
    }
   ],
   "execution_count": 4
  },
  {
   "metadata": {},
   "cell_type": "code",
   "outputs": [],
   "execution_count": null,
   "source": "",
   "id": "335881f33122d849"
  }
 ],
 "metadata": {
  "kernelspec": {
   "display_name": "Python 3",
   "language": "python",
   "name": "python3"
  },
  "language_info": {
   "codemirror_mode": {
    "name": "ipython",
    "version": 2
   },
   "file_extension": ".py",
   "mimetype": "text/x-python",
   "name": "python",
   "nbconvert_exporter": "python",
   "pygments_lexer": "ipython2",
   "version": "2.7.6"
  }
 },
 "nbformat": 4,
 "nbformat_minor": 5
}
